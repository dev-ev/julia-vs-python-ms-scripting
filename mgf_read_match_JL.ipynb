{
 "cells": [
  {
   "cell_type": "code",
   "execution_count": 1,
   "id": "d6d21363-a954-44d9-a11b-0a2286315ab0",
   "metadata": {},
   "outputs": [],
   "source": [
    "using DataFrames\n",
    "using BenchmarkTools"
   ]
  },
  {
   "cell_type": "markdown",
   "id": "f1e649ef-bc1a-4ccc-b479-b43b77c568fb",
   "metadata": {},
   "source": [
    "Implement the logic for reading mgf files.<br>\n",
    "Try to reproduce the Python function as close as possible"
   ]
  },
  {
   "cell_type": "code",
   "execution_count": 2,
   "id": "e63cc798-6af8-48bd-80ae-cefb32b36ca1",
   "metadata": {},
   "outputs": [
    {
     "data": {
      "text/plain": [
       "loadmgf (generic function with 1 method)"
      ]
     },
     "execution_count": 2,
     "metadata": {},
     "output_type": "execute_result"
    }
   ],
   "source": [
    "function loadmgf(fname)\n",
    "    FIELDS = [\"TITLE=\", \"RTINSECONDS=\", \"PEPMASS=\", \"CHARGE=\", \"SCANS=\"]\n",
    "    \n",
    "    function format_precursor!(spectrum)\n",
    "        if occursin( \" \", spectrum[\"PEPMASS\"] )\n",
    "            spectrum[\"PEPMASS\"] = map( x -> tryparse(Float64, x), split( spectrum[\"PEPMASS\"] , \" \" ) )\n",
    "        else\n",
    "            spectrum[\"PEPMASS\"] = [ tryparse(Float64, spectrum[\"PEPMASS\"] ) ]\n",
    "        end\n",
    "        \n",
    "        local polarity_multiplier = 1\n",
    "        if spectrum[\"CHARGE\"][end] == '-'\n",
    "            polarity_multiplier = -1\n",
    "        end\n",
    "        \n",
    "        if isnumeric( spectrum[\"CHARGE\"][end] ) == false\n",
    "            spectrum[\"CHARGE\"] = polarity_multiplier * tryparse(Int32, spectrum[\"CHARGE\"][1:end-1] )\n",
    "        else\n",
    "            spectrum[\"CHARGE\"] = tryparse(Int32, spectrum[\"CHARGE\"])\n",
    "        end\n",
    "        return true\n",
    "    end\n",
    "    \n",
    "    function msdata_to_df!(spectrum)\n",
    "        spectrum[\"ms_data\"] = DataFrame( spectrum[\"ms_data\"] )\n",
    "        return true\n",
    "    end\n",
    "    \n",
    "    local spectrum\n",
    "    spectra_array = []\n",
    "    open(fname) do fh\n",
    "        state = false\n",
    "        for line::String in eachline(fh)\n",
    "            \n",
    "            if length(line) > 0 && isnumeric( line[1] ) && state == true\n",
    "                num_line = map( x -> tryparse(Float64, x), split(line, \" \") )\n",
    "                push!(\n",
    "                    spectrum[\"ms_data\"][\"m/z\"],\n",
    "                    num_line[1]\n",
    "                )\n",
    "                push!(\n",
    "                    spectrum[\"ms_data\"][\"Intensity\"],\n",
    "                    num_line[2]\n",
    "                )\n",
    "            elseif occursin(\"BEGIN IONS\", line)\n",
    "                spectrum = Dict{String,Any}( [ \"ms_data\" => Dict(\n",
    "                            [\n",
    "                                \"m/z\"=> Array{Float64}(undef, 0),\n",
    "                                \"Intensity\"=> Array{Float64}(undef, 0)\n",
    "                            ]\n",
    "                        ) ] )\n",
    "                state = true\n",
    "                \n",
    "            elseif occursin(\"END IONS\", line)\n",
    "                #println(spectrum)\n",
    "                if length( spectrum[\"ms_data\"] ) > 0\n",
    "                    format_precursor!(spectrum)\n",
    "                    msdata_to_df!(spectrum)\n",
    "                    push!(spectra_array, spectrum)\n",
    "                end\n",
    "                state = false\n",
    "            else\n",
    "                for field_name in FIELDS\n",
    "                    if occursin(field_name, line) && state == true\n",
    "                        spectrum[ field_name[1:end-1] ] = split(line, field_name)[2]\n",
    "                    end\n",
    "                end\n",
    "            end\n",
    "        end\n",
    "    end\n",
    "    spectra_array\n",
    "end"
   ]
  },
  {
   "cell_type": "code",
   "execution_count": 3,
   "id": "f2c9d1f8-0a7c-4355-8d23-193da21f8083",
   "metadata": {},
   "outputs": [
    {
     "data": {
      "text/plain": [
       "\"Yeast_1000spectra.mgf\""
      ]
     },
     "execution_count": 3,
     "metadata": {},
     "output_type": "execute_result"
    }
   ],
   "source": [
    "fname = \"Yeast_1000spectra.mgf\""
   ]
  },
  {
   "cell_type": "code",
   "execution_count": 4,
   "id": "2390f214-aef3-42b1-a8ff-3b307eb29126",
   "metadata": {},
   "outputs": [
    {
     "data": {
      "text/plain": [
       "1000"
      ]
     },
     "execution_count": 4,
     "metadata": {},
     "output_type": "execute_result"
    }
   ],
   "source": [
    "res = loadmgf(fname)\n",
    "length(res)"
   ]
  },
  {
   "cell_type": "code",
   "execution_count": 5,
   "id": "3c59037f-548d-4f99-a967-2e87bea076c0",
   "metadata": {},
   "outputs": [
    {
     "data": {
      "text/plain": [
       "Dict{String,Any} with 5 entries:\n",
       "  \"TITLE\"       => \"Fusion_180828_07.13836.13836.2 File:\\\"Fusion_180828_07.raw\\…\n",
       "  \"RTINSECONDS\" => \"2463.272073\"\n",
       "  \"CHARGE\"      => 2\n",
       "  \"ms_data\"     => \u001b[1m100×2 DataFrame\u001b[0m…\n",
       "  \"PEPMASS\"     => [525.756, 4.28586e6]"
      ]
     },
     "execution_count": 5,
     "metadata": {},
     "output_type": "execute_result"
    }
   ],
   "source": [
    "res[501]"
   ]
  },
  {
   "cell_type": "code",
   "execution_count": 6,
   "id": "5610c207-376a-44c3-930d-3484b7c2c776",
   "metadata": {},
   "outputs": [
    {
     "data": {
      "text/html": [
       "<table class=\"data-frame\"><thead><tr><th></th><th>Intensity</th><th>m/z</th></tr><tr><th></th><th>Float64</th><th>Float64</th></tr></thead><tbody><p>100 rows × 2 columns</p><tr><th>1</th><td>262.677</td><td>172.973</td></tr><tr><th>2</th><td>117.925</td><td>175.068</td></tr><tr><th>3</th><td>170.186</td><td>189.044</td></tr><tr><th>4</th><td>120.847</td><td>201.158</td></tr><tr><th>5</th><td>163.982</td><td>221.101</td></tr><tr><th>6</th><td>66.9147</td><td>221.977</td></tr><tr><th>7</th><td>131.333</td><td>249.024</td></tr><tr><th>8</th><td>117.201</td><td>249.966</td></tr><tr><th>9</th><td>107.119</td><td>259.098</td></tr><tr><th>10</th><td>116.108</td><td>274.28</td></tr><tr><th>11</th><td>136.187</td><td>277.143</td></tr><tr><th>12</th><td>75.9582</td><td>278.089</td></tr><tr><th>13</th><td>74.2983</td><td>286.11</td></tr><tr><th>14</th><td>525.712</td><td>302.253</td></tr><tr><th>15</th><td>65.8487</td><td>306.121</td></tr><tr><th>16</th><td>62.2081</td><td>318.319</td></tr><tr><th>17</th><td>191.189</td><td>322.202</td></tr><tr><th>18</th><td>68.6206</td><td>323.18</td></tr><tr><th>19</th><td>289.186</td><td>334.191</td></tr><tr><th>20</th><td>170.918</td><td>348.045</td></tr><tr><th>21</th><td>70.6262</td><td>348.921</td></tr><tr><th>22</th><td>226.99</td><td>362.216</td></tr><tr><th>23</th><td>83.4199</td><td>363.058</td></tr><tr><th>24</th><td>61.2945</td><td>364.547</td></tr><tr><th>25</th><td>62.8599</td><td>371.862</td></tr><tr><th>26</th><td>212.51</td><td>373.146</td></tr><tr><th>27</th><td>109.912</td><td>399.117</td></tr><tr><th>28</th><td>257.411</td><td>401.605</td></tr><tr><th>29</th><td>89.7844</td><td>403.458</td></tr><tr><th>30</th><td>61.0905</td><td>416.934</td></tr><tr><th>&vellip;</th><td>&vellip;</td><td>&vellip;</td></tr></tbody></table>"
      ],
      "text/latex": [
       "\\begin{tabular}{r|cc}\n",
       "\t& Intensity & m/z\\\\\n",
       "\t\\hline\n",
       "\t& Float64 & Float64\\\\\n",
       "\t\\hline\n",
       "\t1 & 262.677 & 172.973 \\\\\n",
       "\t2 & 117.925 & 175.068 \\\\\n",
       "\t3 & 170.186 & 189.044 \\\\\n",
       "\t4 & 120.847 & 201.158 \\\\\n",
       "\t5 & 163.982 & 221.101 \\\\\n",
       "\t6 & 66.9147 & 221.977 \\\\\n",
       "\t7 & 131.333 & 249.024 \\\\\n",
       "\t8 & 117.201 & 249.966 \\\\\n",
       "\t9 & 107.119 & 259.098 \\\\\n",
       "\t10 & 116.108 & 274.28 \\\\\n",
       "\t11 & 136.187 & 277.143 \\\\\n",
       "\t12 & 75.9582 & 278.089 \\\\\n",
       "\t13 & 74.2983 & 286.11 \\\\\n",
       "\t14 & 525.712 & 302.253 \\\\\n",
       "\t15 & 65.8487 & 306.121 \\\\\n",
       "\t16 & 62.2081 & 318.319 \\\\\n",
       "\t17 & 191.189 & 322.202 \\\\\n",
       "\t18 & 68.6206 & 323.18 \\\\\n",
       "\t19 & 289.186 & 334.191 \\\\\n",
       "\t20 & 170.918 & 348.045 \\\\\n",
       "\t21 & 70.6262 & 348.921 \\\\\n",
       "\t22 & 226.99 & 362.216 \\\\\n",
       "\t23 & 83.4199 & 363.058 \\\\\n",
       "\t24 & 61.2945 & 364.547 \\\\\n",
       "\t25 & 62.8599 & 371.862 \\\\\n",
       "\t26 & 212.51 & 373.146 \\\\\n",
       "\t27 & 109.912 & 399.117 \\\\\n",
       "\t28 & 257.411 & 401.605 \\\\\n",
       "\t29 & 89.7844 & 403.458 \\\\\n",
       "\t30 & 61.0905 & 416.934 \\\\\n",
       "\t$\\dots$ & $\\dots$ & $\\dots$ \\\\\n",
       "\\end{tabular}\n"
      ],
      "text/plain": [
       "\u001b[1m100×2 DataFrame\u001b[0m\n",
       "\u001b[1m Row \u001b[0m│\u001b[1m Intensity \u001b[0m\u001b[1m m/z     \u001b[0m\n",
       "\u001b[1m     \u001b[0m│\u001b[90m Float64   \u001b[0m\u001b[90m Float64 \u001b[0m\n",
       "─────┼────────────────────\n",
       "   1 │  262.677   172.973\n",
       "   2 │  117.925   175.068\n",
       "   3 │  170.186   189.044\n",
       "   4 │  120.847   201.158\n",
       "   5 │  163.982   221.101\n",
       "   6 │   66.9147  221.977\n",
       "   7 │  131.333   249.024\n",
       "   8 │  117.201   249.966\n",
       "   9 │  107.119   259.098\n",
       "  10 │  116.108   274.28\n",
       "  11 │  136.187   277.143\n",
       "  ⋮  │     ⋮         ⋮\n",
       "  91 │  888.09    749.323\n",
       "  92 │   91.502   750.348\n",
       "  93 │  257.06    801.435\n",
       "  94 │  164.656   802.392\n",
       "  95 │  121.313   847.196\n",
       "  96 │   65.0017  848.857\n",
       "  97 │  639.374   849.547\n",
       "  98 │  558.017   850.563\n",
       "  99 │  116.028   876.655\n",
       " 100 │   64.9546  919.621\n",
       "\u001b[36m           79 rows omitted\u001b[0m"
      ]
     },
     "execution_count": 6,
     "metadata": {},
     "output_type": "execute_result"
    }
   ],
   "source": [
    "res[501][\"ms_data\"]"
   ]
  },
  {
   "cell_type": "code",
   "execution_count": 8,
   "id": "3cdd6c3a-ec11-4384-bf4b-4e103010aec5",
   "metadata": {},
   "outputs": [
    {
     "data": {
      "text/plain": [
       "BenchmarkTools.Trial: \n",
       "  memory estimate:  48.80 MiB\n",
       "  allocs estimate:  911621\n",
       "  --------------\n",
       "  minimum time:     108.247 ms (6.60% GC)\n",
       "  median time:      112.938 ms (5.28% GC)\n",
       "  mean time:        114.375 ms (5.78% GC)\n",
       "  maximum time:     126.844 ms (4.72% GC)\n",
       "  --------------\n",
       "  samples:          44\n",
       "  evals/sample:     1"
      ]
     },
     "execution_count": 8,
     "metadata": {},
     "output_type": "execute_result"
    }
   ],
   "source": [
    "@benchmark loadmgf(fname)"
   ]
  },
  {
   "cell_type": "markdown",
   "id": "a9f32ad0-d7e6-4c74-a593-bf6ed91c5d65",
   "metadata": {},
   "source": [
    "Let's now check each spectrum for known mass differences"
   ]
  },
  {
   "cell_type": "markdown",
   "id": "5fa1c217-f1bb-4224-9392-2e45556e69d9",
   "metadata": {},
   "source": [
    "Monoisotopic masses of amino acids:"
   ]
  },
  {
   "cell_type": "code",
   "execution_count": 9,
   "id": "7ba36fec-f074-40bb-adeb-fb36013e9609",
   "metadata": {},
   "outputs": [
    {
     "data": {
      "text/plain": [
       "Dict{String,Float64} with 21 entries:\n",
       "  \"Q\"    => 128.059\n",
       "  \"Mox\"  => 147.035\n",
       "  \"T\"    => 101.048\n",
       "  \"P\"    => 97.0528\n",
       "  \"W\"    => 186.079\n",
       "  \"V\"    => 99.0684\n",
       "  \"M\"    => 131.04\n",
       "  \"I/L\"  => 113.084\n",
       "  \"N\"    => 114.043\n",
       "  \"H\"    => 137.059\n",
       "  \"A\"    => 71.0371\n",
       "  \"D\"    => 115.027\n",
       "  \"G\"    => 57.0215\n",
       "  \"E\"    => 129.043\n",
       "  \"Ccam\" => 160.031\n",
       "  \"Y\"    => 163.063\n",
       "  \"S\"    => 87.032\n",
       "  \"Cmes\" => 148.997\n",
       "  \"K\"    => 128.095\n",
       "  \"R\"    => 156.101\n",
       "  \"F\"    => 147.068"
      ]
     },
     "execution_count": 9,
     "metadata": {},
     "output_type": "execute_result"
    }
   ],
   "source": [
    "AA_DELTAS = Dict(\n",
    "    \"G\"=> 57.02147, \"A\"=> 71.03712, \"S\"=> 87.03203, \"P\"=> 97.05277, \"V\"=> 99.06842,\n",
    "    \"T\"=> 101.04768, \"Ccam\"=> 160.03065, \"Cmes\"=> 148.996912, \"I/L\"=> 113.08407,\n",
    "    \"N\"=> 114.04293, \"D\"=> 115.02695, \"Q\"=> 128.05858, \"K\"=> 128.09497, \"E\"=> 129.0426,\n",
    "    \"M\"=> 131.04049, \"Mox\"=> 147.0354, \"H\"=> 137.05891, \"F\"=> 147.06842, \"R\"=> 156.10112,\n",
    "    \"Y\"=> 163.06333, \"W\"=> 186.07932\n",
    ")"
   ]
  },
  {
   "cell_type": "code",
   "execution_count": 10,
   "id": "8fa5b17d-490d-461e-9858-41264829b133",
   "metadata": {},
   "outputs": [
    {
     "name": "stdout",
     "output_type": "stream",
     "text": [
      "Array{Float64,1}\n",
      "63\n"
     ]
    },
    {
     "data": {
      "text/plain": [
       "5-element Array{Float64,1}:\n",
       " 42.686193333333335\n",
       " 49.0118\n",
       " 33.68256\n",
       " 32.350923333333334\n",
       " 62.02644"
      ]
     },
     "execution_count": 10,
     "metadata": {},
     "output_type": "execute_result"
    }
   ],
   "source": [
    "#Flatten the values from the dictionary\n",
    "single_res_Δ = collect( values(AA_DELTAS) )\n",
    "println( typeof(single_res_Δ) )\n",
    "#Add doubly-charged and triply-charged mass Deltas (simply divide by 2 and 3)\n",
    "single_res_Δ = vcat( single_res_Δ / 3, single_res_Δ / 2, single_res_Δ )\n",
    "println( length( single_res_Δ ) )\n",
    "single_res_Δ[1:5]"
   ]
  },
  {
   "cell_type": "markdown",
   "id": "837de546-24ba-48d5-871f-a4342565f3a7",
   "metadata": {},
   "source": [
    "Now take the spectra one-by-one, find pairwise mass differences and match them to the list.<br>\n",
    "Reproduce the logic from the Python function as closely as possible:<br>\n",
    "* Calculate pairwise absolute differences between the \n",
    "* Subtract the experimental mass Deltas from the theoretical\n",
    "* Calculate relative difference\n",
    "* Select the cases with the relative difference lower than threshold (matches)\n",
    "* Summarize and report the matches"
   ]
  },
  {
   "cell_type": "code",
   "execution_count": 11,
   "id": "4029f480-1db2-4c8a-8261-2b6af7cb30d1",
   "metadata": {},
   "outputs": [
    {
     "data": {
      "text/plain": [
       "matches (generic function with 1 method)"
      ]
     },
     "execution_count": 11,
     "metadata": {},
     "output_type": "execute_result"
    }
   ],
   "source": [
    "function matches(spectra, masses_to_match, rel_tolerance)\n",
    "    res_dict = Dict([\n",
    "        ( \"Spectrum_idx\", Vector{Int64}() ),\n",
    "        ( \"Exp_idx\", Vector{Int64}() ),\n",
    "        ( \"Library_idx\", Vector{Int64}() ),\n",
    "        ( \"Rel_error\", Vector{Float64}() )\n",
    "    ])\n",
    "    min_theo_val = minimum(masses_to_match) * (1 - rel_tolerance)\n",
    "   for (idx, s) in enumerate(spectra)\n",
    "        exp_Δs = filter(\n",
    "            x -> x > min_theo_val,\n",
    "            s[\"ms_data\"][!, \"m/z\"] .- s[\"ms_data\"][!, \"m/z\"]'\n",
    "        )\n",
    "        rel_deltas_matrix = map(\n",
    "            abs,\n",
    "            (masses_to_match .- exp_Δs')\n",
    "        ) * 2 ./ (masses_to_match .+ exp_Δs')\n",
    "        matching_inds = findall(x -> isless(x, rel_tolerance), rel_deltas_matrix)\n",
    "        num_matches = size(matching_inds)[1]\n",
    "        if num_matches > 0\n",
    "            append!( res_dict[\"Spectrum_idx\"], fill(idx, num_matches) )\n",
    "            append!( res_dict[\"Library_idx\"], map(x -> x[1], matching_inds) )\n",
    "            append!( res_dict[\"Exp_idx\"], map(x -> x[2], matching_inds) )\n",
    "            append!( res_dict[\"Rel_error\"], rel_deltas_matrix[matching_inds] )\n",
    "        end\n",
    "    end\n",
    "    DataFrame(res_dict)\n",
    "end"
   ]
  },
  {
   "cell_type": "code",
   "execution_count": 12,
   "id": "2ff5f7f4-5ef0-4cd0-8203-4e6ccef4023f",
   "metadata": {},
   "outputs": [
    {
     "data": {
      "text/plain": [
       "(1424, 4)"
      ]
     },
     "execution_count": 12,
     "metadata": {},
     "output_type": "execute_result"
    }
   ],
   "source": [
    "m = matches(res, single_res_Δ, 1e-5)\n",
    "size(m)"
   ]
  },
  {
   "cell_type": "code",
   "execution_count": 13,
   "id": "72855682-25bf-4571-be46-7ae05ee10696",
   "metadata": {},
   "outputs": [
    {
     "data": {
      "text/plain": [
       "BenchmarkTools.Trial: \n",
       "  memory estimate:  5.84 GiB\n",
       "  allocs estimate:  34240\n",
       "  --------------\n",
       "  minimum time:     1.604 s (8.30% GC)\n",
       "  median time:      1.787 s (7.45% GC)\n",
       "  mean time:        1.734 s (7.71% GC)\n",
       "  maximum time:     1.812 s (7.14% GC)\n",
       "  --------------\n",
       "  samples:          3\n",
       "  evals/sample:     1"
      ]
     },
     "execution_count": 13,
     "metadata": {},
     "output_type": "execute_result"
    }
   ],
   "source": [
    "@benchmark matches(res, single_res_Δ, 1e-5) samples=5"
   ]
  },
  {
   "cell_type": "code",
   "execution_count": null,
   "id": "b0993257-66ee-424a-839b-0b564cd255a1",
   "metadata": {},
   "outputs": [],
   "source": []
  },
  {
   "cell_type": "markdown",
   "id": "4b37631a-1cea-4f8b-ba1a-266a97d4bbd4",
   "metadata": {},
   "source": [
    "Use of the dot macro to fuse several matrix operations into one"
   ]
  },
  {
   "cell_type": "code",
   "execution_count": 14,
   "id": "14cf7ca4-ce9a-455b-b99e-6ebf218ae542",
   "metadata": {},
   "outputs": [
    {
     "data": {
      "text/plain": [
       "matchesfuse (generic function with 1 method)"
      ]
     },
     "execution_count": 14,
     "metadata": {},
     "output_type": "execute_result"
    }
   ],
   "source": [
    "function matchesfuse(spectra, masses_to_match, rel_tolerance)\n",
    "    res_dict = Dict([\n",
    "        ( \"Spectrum_idx\", Vector{Int64}() ),\n",
    "        ( \"Exp_idx\", Vector{Int64}() ),\n",
    "        ( \"Library_idx\", Vector{Int64}() ),\n",
    "        ( \"Rel_error\", Vector{Float64}() )\n",
    "    ])\n",
    "    min_theo_val = minimum(masses_to_match) * (1 - rel_tolerance)\n",
    "   for (idx, s) in enumerate(spectra)\n",
    "        exp_Δs = filter(\n",
    "            x -> x > min_theo_val,\n",
    "            s[\"ms_data\"][!, \"m/z\"] .- s[\"ms_data\"][!, \"m/z\"]'\n",
    "        )\n",
    "        #Fuse the vectorized operations using the dot macro\n",
    "        rel_deltas_matrix = @. map(abs, (masses_to_match - exp_Δs') ) * 2 / (masses_to_match + exp_Δs')\n",
    "        matching_inds = findall(x -> isless(x, rel_tolerance), rel_deltas_matrix)\n",
    "        num_matches = size(matching_inds)[1]\n",
    "        if num_matches > 0\n",
    "            append!( res_dict[\"Spectrum_idx\"], fill(idx, num_matches) )\n",
    "            append!( res_dict[\"Library_idx\"], map(x -> x[1], matching_inds) )\n",
    "            append!( res_dict[\"Exp_idx\"], map(x -> x[2], matching_inds) )\n",
    "            append!( res_dict[\"Rel_error\"], rel_deltas_matrix[matching_inds] )\n",
    "        end\n",
    "    end\n",
    "    DataFrame(res_dict)\n",
    "end"
   ]
  },
  {
   "cell_type": "code",
   "execution_count": 15,
   "id": "3878dd57-bba6-40df-b51b-b415f9d384d7",
   "metadata": {},
   "outputs": [
    {
     "data": {
      "text/plain": [
       "(1424, 4)"
      ]
     },
     "execution_count": 15,
     "metadata": {},
     "output_type": "execute_result"
    }
   ],
   "source": [
    "m = matchesfuse(res, single_res_Δ, 1e-5)\n",
    "size(m)"
   ]
  },
  {
   "cell_type": "code",
   "execution_count": 16,
   "id": "fec3eff1-f648-41ea-93af-a06c4e07c6bd",
   "metadata": {},
   "outputs": [
    {
     "data": {
      "text/html": [
       "<table class=\"data-frame\"><thead><tr><th></th><th>Exp_idx</th><th>Library_idx</th><th>Rel_error</th><th>Spectrum_idx</th></tr><tr><th></th><th>Int64</th><th>Int64</th><th>Float64</th><th>Int64</th></tr></thead><tbody><p>6 rows × 4 columns</p><tr><th>1</th><td>693</td><td>54</td><td>5.0423e-7</td><td>2</td></tr><tr><th>2</th><td>1368</td><td>40</td><td>7.61781e-6</td><td>2</td></tr><tr><th>3</th><td>2200</td><td>49</td><td>4.01173e-6</td><td>2</td></tr><tr><th>4</th><td>4006</td><td>15</td><td>8.89701e-6</td><td>2</td></tr><tr><th>5</th><td>4085</td><td>30</td><td>8.90187e-6</td><td>2</td></tr><tr><th>6</th><td>4085</td><td>55</td><td>8.81418e-6</td><td>2</td></tr></tbody></table>"
      ],
      "text/latex": [
       "\\begin{tabular}{r|cccc}\n",
       "\t& Exp\\_idx & Library\\_idx & Rel\\_error & Spectrum\\_idx\\\\\n",
       "\t\\hline\n",
       "\t& Int64 & Int64 & Float64 & Int64\\\\\n",
       "\t\\hline\n",
       "\t1 & 693 & 54 & 5.0423e-7 & 2 \\\\\n",
       "\t2 & 1368 & 40 & 7.61781e-6 & 2 \\\\\n",
       "\t3 & 2200 & 49 & 4.01173e-6 & 2 \\\\\n",
       "\t4 & 4006 & 15 & 8.89701e-6 & 2 \\\\\n",
       "\t5 & 4085 & 30 & 8.90187e-6 & 2 \\\\\n",
       "\t6 & 4085 & 55 & 8.81418e-6 & 2 \\\\\n",
       "\\end{tabular}\n"
      ],
      "text/plain": [
       "\u001b[1m6×4 DataFrame\u001b[0m\n",
       "\u001b[1m Row \u001b[0m│\u001b[1m Exp_idx \u001b[0m\u001b[1m Library_idx \u001b[0m\u001b[1m Rel_error  \u001b[0m\u001b[1m Spectrum_idx \u001b[0m\n",
       "\u001b[1m     \u001b[0m│\u001b[90m Int64   \u001b[0m\u001b[90m Int64       \u001b[0m\u001b[90m Float64    \u001b[0m\u001b[90m Int64        \u001b[0m\n",
       "─────┼────────────────────────────────────────────────\n",
       "   1 │     693           54  5.0423e-7              2\n",
       "   2 │    1368           40  7.61781e-6             2\n",
       "   3 │    2200           49  4.01173e-6             2\n",
       "   4 │    4006           15  8.89701e-6             2\n",
       "   5 │    4085           30  8.90187e-6             2\n",
       "   6 │    4085           55  8.81418e-6             2"
      ]
     },
     "execution_count": 16,
     "metadata": {},
     "output_type": "execute_result"
    }
   ],
   "source": [
    "m[ m.Spectrum_idx .== 2 , :]"
   ]
  },
  {
   "cell_type": "code",
   "execution_count": 17,
   "id": "e59cbd24-8902-4591-b29e-19baa2a9ee77",
   "metadata": {},
   "outputs": [
    {
     "data": {
      "text/plain": [
       "BenchmarkTools.Trial: \n",
       "  memory estimate:  1.54 GiB\n",
       "  allocs estimate:  34246\n",
       "  --------------\n",
       "  minimum time:     1.036 s (3.13% GC)\n",
       "  median time:      1.078 s (3.21% GC)\n",
       "  mean time:        1.071 s (3.31% GC)\n",
       "  maximum time:     1.087 s (3.72% GC)\n",
       "  --------------\n",
       "  samples:          5\n",
       "  evals/sample:     1"
      ]
     },
     "execution_count": 17,
     "metadata": {},
     "output_type": "execute_result"
    }
   ],
   "source": [
    "@benchmark matchesfuse(res, single_res_Δ, 1e-5) samples=5"
   ]
  },
  {
   "cell_type": "code",
   "execution_count": null,
   "id": "05273ff4-bee2-4649-9d9a-34dd3c533ade",
   "metadata": {},
   "outputs": [],
   "source": []
  }
 ],
 "metadata": {
  "kernelspec": {
   "display_name": "Julia 1.5.3",
   "language": "julia",
   "name": "julia-1.5"
  },
  "language_info": {
   "file_extension": ".jl",
   "mimetype": "application/julia",
   "name": "julia",
   "version": "1.5.3"
  }
 },
 "nbformat": 4,
 "nbformat_minor": 5
}
