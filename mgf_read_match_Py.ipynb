{
 "cells": [
  {
   "cell_type": "code",
   "execution_count": 1,
   "id": "bef09cff-6309-4316-ba20-8f76a42ee159",
   "metadata": {},
   "outputs": [],
   "source": [
    "import numpy as np\n",
    "import pandas as pd"
   ]
  },
  {
   "cell_type": "markdown",
   "id": "5e090234-bb72-47f3-bcd2-cf2db4dcfc38",
   "metadata": {},
   "source": [
    "Write a function for mgf reading into an object"
   ]
  },
  {
   "cell_type": "code",
   "execution_count": 2,
   "id": "8b9df35a-39f3-4a3f-b281-356f1149dec6",
   "metadata": {},
   "outputs": [],
   "source": [
    "def load_mgf(fname):\n",
    "    '''Read the file into one huge list, without pre-defined format'''\n",
    "    FIELDS = ('TITLE=', 'RTINSECONDS=', 'PEPMASS=', 'CHARGE=', 'SCANS=')\n",
    "    \n",
    "    def format_precursor(spectrum):\n",
    "        #Cover for a case when there's no precursor intensity\n",
    "        if ' ' in spectrum['PEPMASS']:\n",
    "            spectrum['PEPMASS'] = [\n",
    "                float(x) for x in spectrum['PEPMASS'].split(' ')\n",
    "            ]\n",
    "        else:\n",
    "            spectrum['PEPMASS'] = [ float(spectrum['PEPMASS']),]\n",
    "\n",
    "        #Check the polarity, which may or mmay not be given after the digits\n",
    "        # \"2+\", \"3-\" etc\n",
    "        polarityMultiplier = 1\n",
    "        if spectrum['CHARGE'][-1] == '-':\n",
    "            polarityMultiplier = -1\n",
    "\n",
    "        if not spectrum['CHARGE'][-1].isnumeric():\n",
    "            spectrum['CHARGE'] = polarityMultiplier * int( spectrum['CHARGE'][:-1] )\n",
    "        else:\n",
    "            spectrum['CHARGE'] = int( spectrum['CHARGE'] )\n",
    "        \n",
    "        return True\n",
    "    \n",
    "    def ms_data_to_df(spectrum):\n",
    "\n",
    "        spectrum['ms_data'] = pd.DataFrame(\n",
    "            spectrum['ms_data'],\n",
    "            columns = ('m/z', 'Intensity')\n",
    "        )\n",
    "\n",
    "        return True\n",
    "    \n",
    "    spectraList = []\n",
    "    with open(fname, 'r') as fh:\n",
    "        state = False\n",
    "        for line in fh:\n",
    "            if line[0].isnumeric() and state == True:\n",
    "                spectrum['ms_data'].append(\n",
    "                    [ float(x) for x in line.rstrip().split(' ') ]\n",
    "                    )\n",
    "            elif 'BEGIN IONS' in line:\n",
    "                spectrum = {'ms_data': []}\n",
    "                state = True\n",
    "            elif 'END IONS' in line:\n",
    "                #Do not add the spectrum to the list if it doesn't contain fragment masses\n",
    "                if len(spectrum['ms_data']) > 0:\n",
    "\n",
    "                    ms_data_to_df(spectrum)\n",
    "                    format_precursor(spectrum)\n",
    "                    \n",
    "                    spectraList.append(spectrum)\n",
    "                state = False\n",
    "            else:\n",
    "                for fieldName in FIELDS:\n",
    "                    if fieldName in line and state == True:\n",
    "                        spectrum[fieldName[:-1] ] = line.rstrip().split(fieldName)[1]\n",
    "                \n",
    "    return spectraList"
   ]
  },
  {
   "cell_type": "code",
   "execution_count": 3,
   "id": "b6d73d3b-463b-4b49-acdf-dea5f6539824",
   "metadata": {},
   "outputs": [],
   "source": [
    "fname = 'Yeast_1000spectra.mgf'"
   ]
  },
  {
   "cell_type": "code",
   "execution_count": 4,
   "id": "39c44f57-d373-437d-a275-964abdfa9e44",
   "metadata": {},
   "outputs": [
    {
     "name": "stdout",
     "output_type": "stream",
     "text": [
      "290 ms ± 7.45 ms per loop (mean ± std. dev. of 20 runs, 1 loop each)\n"
     ]
    }
   ],
   "source": [
    "%%timeit -r 20\n",
    "load_mgf(fname)"
   ]
  },
  {
   "cell_type": "code",
   "execution_count": 5,
   "id": "75539051-7a06-40ff-8646-f3883481c9bf",
   "metadata": {},
   "outputs": [
    {
     "data": {
      "text/plain": [
       "1000"
      ]
     },
     "execution_count": 5,
     "metadata": {},
     "output_type": "execute_result"
    }
   ],
   "source": [
    "res = load_mgf(fname)\n",
    "len(res)"
   ]
  },
  {
   "cell_type": "code",
   "execution_count": 6,
   "id": "b3c6dbc6-0015-4ef7-98f1-49c75d41ba24",
   "metadata": {},
   "outputs": [
    {
     "data": {
      "text/plain": [
       "{'ms_data':            m/z   Intensity\n",
       " 0   172.973053  262.676544\n",
       " 1   175.068008  117.924858\n",
       " 2   189.044006  170.185852\n",
       " 3   201.158005  120.846565\n",
       " 4   221.101013  163.982086\n",
       " ..         ...         ...\n",
       " 95  848.857056   65.001671\n",
       " 96  849.547058  639.374023\n",
       " 97  850.563049  558.017273\n",
       " 98  876.655090  116.027573\n",
       " 99  919.621033   64.954643\n",
       " \n",
       " [100 rows x 2 columns],\n",
       " 'TITLE': 'Fusion_180828_07.13836.13836.2 File:\"Fusion_180828_07.raw\", NativeID:\"controllerType=0 controllerNumber=1 scan=13836\"',\n",
       " 'RTINSECONDS': '2463.272073',\n",
       " 'PEPMASS': [525.756286621094, 4285863.743134],\n",
       " 'CHARGE': 2}"
      ]
     },
     "execution_count": 6,
     "metadata": {},
     "output_type": "execute_result"
    }
   ],
   "source": [
    "res[500]"
   ]
  },
  {
   "cell_type": "code",
   "execution_count": 7,
   "id": "608a7fb9-8082-48a2-8422-86af6ac29592",
   "metadata": {},
   "outputs": [
    {
     "data": {
      "text/html": [
       "<div>\n",
       "<style scoped>\n",
       "    .dataframe tbody tr th:only-of-type {\n",
       "        vertical-align: middle;\n",
       "    }\n",
       "\n",
       "    .dataframe tbody tr th {\n",
       "        vertical-align: top;\n",
       "    }\n",
       "\n",
       "    .dataframe thead th {\n",
       "        text-align: right;\n",
       "    }\n",
       "</style>\n",
       "<table border=\"1\" class=\"dataframe\">\n",
       "  <thead>\n",
       "    <tr style=\"text-align: right;\">\n",
       "      <th></th>\n",
       "      <th>m/z</th>\n",
       "      <th>Intensity</th>\n",
       "    </tr>\n",
       "  </thead>\n",
       "  <tbody>\n",
       "    <tr>\n",
       "      <th>0</th>\n",
       "      <td>172.973053</td>\n",
       "      <td>262.676544</td>\n",
       "    </tr>\n",
       "    <tr>\n",
       "      <th>1</th>\n",
       "      <td>175.068008</td>\n",
       "      <td>117.924858</td>\n",
       "    </tr>\n",
       "    <tr>\n",
       "      <th>2</th>\n",
       "      <td>189.044006</td>\n",
       "      <td>170.185852</td>\n",
       "    </tr>\n",
       "    <tr>\n",
       "      <th>3</th>\n",
       "      <td>201.158005</td>\n",
       "      <td>120.846565</td>\n",
       "    </tr>\n",
       "    <tr>\n",
       "      <th>4</th>\n",
       "      <td>221.101013</td>\n",
       "      <td>163.982086</td>\n",
       "    </tr>\n",
       "    <tr>\n",
       "      <th>...</th>\n",
       "      <td>...</td>\n",
       "      <td>...</td>\n",
       "    </tr>\n",
       "    <tr>\n",
       "      <th>95</th>\n",
       "      <td>848.857056</td>\n",
       "      <td>65.001671</td>\n",
       "    </tr>\n",
       "    <tr>\n",
       "      <th>96</th>\n",
       "      <td>849.547058</td>\n",
       "      <td>639.374023</td>\n",
       "    </tr>\n",
       "    <tr>\n",
       "      <th>97</th>\n",
       "      <td>850.563049</td>\n",
       "      <td>558.017273</td>\n",
       "    </tr>\n",
       "    <tr>\n",
       "      <th>98</th>\n",
       "      <td>876.655090</td>\n",
       "      <td>116.027573</td>\n",
       "    </tr>\n",
       "    <tr>\n",
       "      <th>99</th>\n",
       "      <td>919.621033</td>\n",
       "      <td>64.954643</td>\n",
       "    </tr>\n",
       "  </tbody>\n",
       "</table>\n",
       "<p>100 rows × 2 columns</p>\n",
       "</div>"
      ],
      "text/plain": [
       "           m/z   Intensity\n",
       "0   172.973053  262.676544\n",
       "1   175.068008  117.924858\n",
       "2   189.044006  170.185852\n",
       "3   201.158005  120.846565\n",
       "4   221.101013  163.982086\n",
       "..         ...         ...\n",
       "95  848.857056   65.001671\n",
       "96  849.547058  639.374023\n",
       "97  850.563049  558.017273\n",
       "98  876.655090  116.027573\n",
       "99  919.621033   64.954643\n",
       "\n",
       "[100 rows x 2 columns]"
      ]
     },
     "execution_count": 7,
     "metadata": {},
     "output_type": "execute_result"
    }
   ],
   "source": [
    "res[500]['ms_data']"
   ]
  },
  {
   "cell_type": "markdown",
   "id": "4d5f1066-605d-4ade-8289-35a58ee16a69",
   "metadata": {},
   "source": [
    "Let's now check each spectrum for known mass differences"
   ]
  },
  {
   "cell_type": "markdown",
   "id": "da8f6927-0f08-4376-936d-1559221f3f5c",
   "metadata": {},
   "source": [
    "Monoisotopic masses of amino acids:"
   ]
  },
  {
   "cell_type": "code",
   "execution_count": 8,
   "id": "a6622708-825c-41ee-b2f2-576184d59686",
   "metadata": {},
   "outputs": [],
   "source": [
    "AA_DELTAS = {\n",
    "    'G': 57.02147, 'A': 71.03712, 'S': 87.03203, 'P': 97.05277, 'V': 99.06842, \n",
    "    'T': 101.04768, 'Ccam': 160.03065, 'Cmes': 148.996912, 'I/L': 113.08407,\n",
    "    'N': 114.04293, 'D': 115.02695, 'Q': 128.05858, 'K': 128.09497, 'E': 129.0426,\n",
    "    'M': 131.04049, 'Mox': 147.0354, 'H': 137.05891, 'F': 147.06842, 'R': 156.10112,\n",
    "    'Y': 163.06333, 'W': 186.07932\n",
    "}"
   ]
  },
  {
   "cell_type": "code",
   "execution_count": 9,
   "id": "67b0196d-dd6f-4fec-9921-4a4ab62b0044",
   "metadata": {},
   "outputs": [
    {
     "name": "stdout",
     "output_type": "stream",
     "text": [
      "float64\n",
      "(63,)\n"
     ]
    },
    {
     "data": {
      "text/plain": [
       "array([57.02147, 71.03712, 87.03203, 97.05277, 99.06842])"
      ]
     },
     "execution_count": 9,
     "metadata": {},
     "output_type": "execute_result"
    }
   ],
   "source": [
    "#Flatten the values from the dictionary\n",
    "singleResDeltas = np.array(\n",
    "    list( AA_DELTAS.values() ), dtype = 'float64'\n",
    ")\n",
    "print(singleResDeltas.dtype)\n",
    "#Add doubly-charged and triply-charged mass Deltas (simply divide by 2 and 3)\n",
    "singleResDeltas = np.concatenate(\n",
    "    (\n",
    "        singleResDeltas,\n",
    "        singleResDeltas / 2,\n",
    "        singleResDeltas / 3\n",
    "    )\n",
    ")\n",
    "print(singleResDeltas.shape)\n",
    "singleResDeltas[:5]"
   ]
  },
  {
   "cell_type": "markdown",
   "id": "aa869aa5-d0b9-4c1f-b619-acbf029f200e",
   "metadata": {},
   "source": [
    "Now take the spectra one-by-one, find pairwise mass differences and match them to the list.<br>\n",
    "* Calculate pairwise absolute differences between the \n",
    "* Subtract the experimental mass Deltas from the theoretical\n",
    "* Calculate relative difference\n",
    "* Select the cases with the relative difference lower than threshold (matches)\n",
    "* Summarize and report the matches"
   ]
  },
  {
   "cell_type": "code",
   "execution_count": 10,
   "id": "c16ca7b0-cef7-4d8e-9b89-6783ec409170",
   "metadata": {},
   "outputs": [],
   "source": [
    "def find_matches(spectra, masses_to_match, rel_tolerance = 1e-5, float_arr_type = 'float64'):\n",
    "    resDict = {\n",
    "        'Spectrum_idx': np.array([], dtype='uint32'),\n",
    "        'Exp_idx': np.array([], dtype='uint32'),\n",
    "        'Library_idx': np.array([], dtype='uint32'),\n",
    "        'Rel_error': np.array([], dtype=float_arr_type)\n",
    "    }\n",
    "    #Calculate the minimal value in the list for matching\n",
    "    #and offset it by the matching tolerance\n",
    "    minTheoVal = masses_to_match.min() * (1 - rel_tolerance)\n",
    "\n",
    "    for idx, s in enumerate(spectra):\n",
    "        #Calculate pairwise differences betweeen experimental values\n",
    "        expDeltas = np.subtract.outer(\n",
    "            s['ms_data']['m/z'].to_numpy(), s['ms_data']['m/z'].to_numpy()\n",
    "        )            \n",
    "        # Disregard relative deltas that are smaller than the lowest theoretical value\n",
    "        expDeltas = expDeltas[ expDeltas > minTheoVal]\n",
    "        # Calculate relative differences between experimental and theoretical values \n",
    "        relDeltasArr = np.divide(\n",
    "            #Absolute values of the differences between masses\n",
    "            np.abs(\n",
    "                np.subtract.outer(\n",
    "                    masses_to_match, expDeltas\n",
    "                )\n",
    "            ),\n",
    "            #Means between the masses\n",
    "            (np.add.outer(masses_to_match, expDeltas) / 2)\n",
    "        )\n",
    "        matchingInds = np.where(\n",
    "            pd.DataFrame(\n",
    "                relDeltasArr\n",
    "            ).le(rel_tolerance) == True\n",
    "        )\n",
    "        numMatches = matchingInds[0].shape[0]\n",
    "        if numMatches > 0:\n",
    "            resDict['Spectrum_idx'] = np.append(\n",
    "                resDict['Spectrum_idx'],\n",
    "                np.array( [idx, ] * numMatches, dtype='uint32' )\n",
    "            )\n",
    "            resDict['Library_idx'] = np.append(\n",
    "                resDict['Library_idx'], matchingInds[0]\n",
    "            )\n",
    "            resDict['Exp_idx'] = np.append(\n",
    "                resDict['Exp_idx'], matchingInds[1]\n",
    "            )\n",
    "            resDict['Rel_error'] = np.append(\n",
    "                resDict['Rel_error'],\n",
    "                relDeltasArr[ matchingInds[0], matchingInds[1] ]\n",
    "            )\n",
    "\n",
    "    resDF = pd.DataFrame(resDict)\n",
    "    return resDF"
   ]
  },
  {
   "cell_type": "code",
   "execution_count": 11,
   "id": "0a5b7853-70ee-4516-97aa-cf3d932d8655",
   "metadata": {},
   "outputs": [
    {
     "name": "stdout",
     "output_type": "stream",
     "text": [
      "2.49 s ± 135 ms per loop (mean ± std. dev. of 5 runs, 1 loop each)\n"
     ]
    }
   ],
   "source": [
    "%%timeit -r 5\n",
    "find_matches(res, singleResDeltas, 1e-5)"
   ]
  },
  {
   "cell_type": "code",
   "execution_count": 12,
   "id": "8051ab89-317e-4962-b263-5325263ee1af",
   "metadata": {},
   "outputs": [
    {
     "data": {
      "text/html": [
       "<div>\n",
       "<style scoped>\n",
       "    .dataframe tbody tr th:only-of-type {\n",
       "        vertical-align: middle;\n",
       "    }\n",
       "\n",
       "    .dataframe tbody tr th {\n",
       "        vertical-align: top;\n",
       "    }\n",
       "\n",
       "    .dataframe thead th {\n",
       "        text-align: right;\n",
       "    }\n",
       "</style>\n",
       "<table border=\"1\" class=\"dataframe\">\n",
       "  <thead>\n",
       "    <tr style=\"text-align: right;\">\n",
       "      <th></th>\n",
       "      <th>Spectrum_idx</th>\n",
       "      <th>Exp_idx</th>\n",
       "      <th>Library_idx</th>\n",
       "      <th>Rel_error</th>\n",
       "    </tr>\n",
       "  </thead>\n",
       "  <tbody>\n",
       "    <tr>\n",
       "      <th>0</th>\n",
       "      <td>0</td>\n",
       "      <td>2545</td>\n",
       "      <td>16</td>\n",
       "      <td>8.098704e-07</td>\n",
       "    </tr>\n",
       "    <tr>\n",
       "      <th>1</th>\n",
       "      <td>1</td>\n",
       "      <td>2552</td>\n",
       "      <td>0</td>\n",
       "      <td>8.814185e-06</td>\n",
       "    </tr>\n",
       "    <tr>\n",
       "      <th>2</th>\n",
       "      <td>1</td>\n",
       "      <td>512</td>\n",
       "      <td>10</td>\n",
       "      <td>5.042295e-07</td>\n",
       "    </tr>\n",
       "    <tr>\n",
       "      <th>3</th>\n",
       "      <td>1</td>\n",
       "      <td>2289</td>\n",
       "      <td>14</td>\n",
       "      <td>4.011729e-06</td>\n",
       "    </tr>\n",
       "    <tr>\n",
       "      <th>4</th>\n",
       "      <td>1</td>\n",
       "      <td>2552</td>\n",
       "      <td>30</td>\n",
       "      <td>8.901871e-06</td>\n",
       "    </tr>\n",
       "    <tr>\n",
       "      <th>...</th>\n",
       "      <td>...</td>\n",
       "      <td>...</td>\n",
       "      <td>...</td>\n",
       "      <td>...</td>\n",
       "    </tr>\n",
       "    <tr>\n",
       "      <th>1419</th>\n",
       "      <td>994</td>\n",
       "      <td>2060</td>\n",
       "      <td>44</td>\n",
       "      <td>8.570371e-06</td>\n",
       "    </tr>\n",
       "    <tr>\n",
       "      <th>1420</th>\n",
       "      <td>997</td>\n",
       "      <td>1829</td>\n",
       "      <td>19</td>\n",
       "      <td>3.892958e-06</td>\n",
       "    </tr>\n",
       "    <tr>\n",
       "      <th>1421</th>\n",
       "      <td>997</td>\n",
       "      <td>1075</td>\n",
       "      <td>52</td>\n",
       "      <td>7.985117e-06</td>\n",
       "    </tr>\n",
       "    <tr>\n",
       "      <th>1422</th>\n",
       "      <td>999</td>\n",
       "      <td>198</td>\n",
       "      <td>28</td>\n",
       "      <td>6.310218e-06</td>\n",
       "    </tr>\n",
       "    <tr>\n",
       "      <th>1423</th>\n",
       "      <td>999</td>\n",
       "      <td>1068</td>\n",
       "      <td>59</td>\n",
       "      <td>4.153840e-06</td>\n",
       "    </tr>\n",
       "  </tbody>\n",
       "</table>\n",
       "<p>1424 rows × 4 columns</p>\n",
       "</div>"
      ],
      "text/plain": [
       "      Spectrum_idx  Exp_idx  Library_idx     Rel_error\n",
       "0                0     2545           16  8.098704e-07\n",
       "1                1     2552            0  8.814185e-06\n",
       "2                1      512           10  5.042295e-07\n",
       "3                1     2289           14  4.011729e-06\n",
       "4                1     2552           30  8.901871e-06\n",
       "...            ...      ...          ...           ...\n",
       "1419           994     2060           44  8.570371e-06\n",
       "1420           997     1829           19  3.892958e-06\n",
       "1421           997     1075           52  7.985117e-06\n",
       "1422           999      198           28  6.310218e-06\n",
       "1423           999     1068           59  4.153840e-06\n",
       "\n",
       "[1424 rows x 4 columns]"
      ]
     },
     "execution_count": 12,
     "metadata": {},
     "output_type": "execute_result"
    }
   ],
   "source": [
    "matches = find_matches(res, singleResDeltas, rel_tolerance = 1e-5)\n",
    "matches"
   ]
  },
  {
   "cell_type": "code",
   "execution_count": 13,
   "id": "8db96ddc-710d-40df-98d8-06d312745c59",
   "metadata": {},
   "outputs": [
    {
     "data": {
      "text/html": [
       "<div>\n",
       "<style scoped>\n",
       "    .dataframe tbody tr th:only-of-type {\n",
       "        vertical-align: middle;\n",
       "    }\n",
       "\n",
       "    .dataframe tbody tr th {\n",
       "        vertical-align: top;\n",
       "    }\n",
       "\n",
       "    .dataframe thead th {\n",
       "        text-align: right;\n",
       "    }\n",
       "</style>\n",
       "<table border=\"1\" class=\"dataframe\">\n",
       "  <thead>\n",
       "    <tr style=\"text-align: right;\">\n",
       "      <th></th>\n",
       "      <th>Spectrum_idx</th>\n",
       "      <th>Exp_idx</th>\n",
       "      <th>Library_idx</th>\n",
       "      <th>Rel_error</th>\n",
       "    </tr>\n",
       "  </thead>\n",
       "  <tbody>\n",
       "    <tr>\n",
       "      <th>1</th>\n",
       "      <td>1</td>\n",
       "      <td>2552</td>\n",
       "      <td>0</td>\n",
       "      <td>8.814185e-06</td>\n",
       "    </tr>\n",
       "    <tr>\n",
       "      <th>2</th>\n",
       "      <td>1</td>\n",
       "      <td>512</td>\n",
       "      <td>10</td>\n",
       "      <td>5.042295e-07</td>\n",
       "    </tr>\n",
       "    <tr>\n",
       "      <th>3</th>\n",
       "      <td>1</td>\n",
       "      <td>2289</td>\n",
       "      <td>14</td>\n",
       "      <td>4.011729e-06</td>\n",
       "    </tr>\n",
       "    <tr>\n",
       "      <th>4</th>\n",
       "      <td>1</td>\n",
       "      <td>2552</td>\n",
       "      <td>30</td>\n",
       "      <td>8.901871e-06</td>\n",
       "    </tr>\n",
       "    <tr>\n",
       "      <th>5</th>\n",
       "      <td>1</td>\n",
       "      <td>431</td>\n",
       "      <td>33</td>\n",
       "      <td>7.617814e-06</td>\n",
       "    </tr>\n",
       "    <tr>\n",
       "      <th>6</th>\n",
       "      <td>1</td>\n",
       "      <td>2399</td>\n",
       "      <td>48</td>\n",
       "      <td>8.897006e-06</td>\n",
       "    </tr>\n",
       "  </tbody>\n",
       "</table>\n",
       "</div>"
      ],
      "text/plain": [
       "   Spectrum_idx  Exp_idx  Library_idx     Rel_error\n",
       "1             1     2552            0  8.814185e-06\n",
       "2             1      512           10  5.042295e-07\n",
       "3             1     2289           14  4.011729e-06\n",
       "4             1     2552           30  8.901871e-06\n",
       "5             1      431           33  7.617814e-06\n",
       "6             1     2399           48  8.897006e-06"
      ]
     },
     "execution_count": 13,
     "metadata": {},
     "output_type": "execute_result"
    }
   ],
   "source": [
    "matches[ matches['Spectrum_idx'] == 1 ]"
   ]
  },
  {
   "cell_type": "code",
   "execution_count": null,
   "id": "7b8a9fdb-1fbf-4657-9152-26a6c678e701",
   "metadata": {},
   "outputs": [],
   "source": []
  }
 ],
 "metadata": {
  "kernelspec": {
   "display_name": "Python 3",
   "language": "python",
   "name": "python3"
  },
  "language_info": {
   "codemirror_mode": {
    "name": "ipython",
    "version": 3
   },
   "file_extension": ".py",
   "mimetype": "text/x-python",
   "name": "python",
   "nbconvert_exporter": "python",
   "pygments_lexer": "ipython3",
   "version": "3.9.4"
  }
 },
 "nbformat": 4,
 "nbformat_minor": 5
}
